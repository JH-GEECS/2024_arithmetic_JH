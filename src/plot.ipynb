{
 "cells": [
  {
   "cell_type": "code",
   "execution_count": null,
   "metadata": {},
   "outputs": [
    {
     "ename": "",
     "evalue": "",
     "output_type": "error",
     "traceback": [
      "\u001b[1;31m'base (Python 3.10.13)'(으)로 셀을 실행하려면 ipykernel 패키지가 필요합니다.\n",
      "\u001b[1;31m다음 명령어를 실행하여 Python 환경에 'ipykernel'을(를) 설치합니다. \n",
      "\u001b[1;31m 명령: 'conda install -n base ipykernel --update-deps --force-reinstall'"
     ]
    }
   ],
   "source": [
    "import matplotlib.pyplot as plt\n",
    "import torch\n",
    "import numpy as np\n",
    "import matplotlib as mpl"
   ]
  },
  {
   "cell_type": "code",
   "execution_count": null,
   "metadata": {},
   "outputs": [],
   "source": [
    "result = np.load(\n",
    "    \"/data2/david3684/2024_arithmetic/disentanglement_errors.npy\"\n",
    ")\n",
    "\n",
    "fig, ax = plt.subplots(figsize=(5, 4))\n",
    "im = ax.imshow(\n",
    "    result,\n",
    "    extent=[-2, 2, -2, 2],\n",
    "    origin=\"lower\",\n",
    "    cmap=\"YlGnBu\",\n",
    "    vmin=0,\n",
    "    vmax=2,\n",
    ")\n",
    "\n",
    "# plot a square x: -1, 1 y: -1, 1, red dashed line, no fill color\n",
    "ax.plot([-1, 1, 1, -1, -1], [-1, -1, 1, 1, -1], \"r--\", linewidth=1)\n",
    "# plot a x at the origin\n",
    "ax.plot([0], [0], \"rx\", linewidth=1)\n",
    "\n",
    "ax.set_title(\"MRPC - SST2\")\n",
    "ax.set_aspect(\"equal\")\n",
    "ax.set_xlabel(\"$\\lambda_1$\")\n",
    "ax.set_ylabel(\"$\\lambda_2$\")\n",
    "ax.set_xticks([-2, -1, 0, 1, 2])\n",
    "ax.set_yticks([-2, -1, 0, 1, 2])\n",
    "\n",
    "fig.colorbar(im, ax=ax)\n",
    "fig.tight_layout()\n",
    "plt.show()"
   ]
  }
 ],
 "metadata": {
  "kernelspec": {
   "display_name": "base",
   "language": "python",
   "name": "python3"
  },
  "language_info": {
   "name": "python",
   "version": "3.10.13"
  }
 },
 "nbformat": 4,
 "nbformat_minor": 2
}
